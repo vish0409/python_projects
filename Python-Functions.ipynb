{
 "cells": [
  {
   "attachments": {},
   "cell_type": "markdown",
   "metadata": {},
   "source": [
    "# Python Functions:\n",
    "## 1. Use-Case functions"
   ]
  },
  {
   "cell_type": "code",
   "execution_count": 8,
   "metadata": {},
   "outputs": [
    {
     "name": "stdout",
     "output_type": "stream",
     "text": [
      "[10, 35, 40, 65, 89, 100]  is not an even list\n"
     ]
    }
   ],
   "source": [
    "def even_list(list):\n",
    "    global num\n",
    "    for num in list:\n",
    "        if num % 2!=0:\n",
    "            print(list,' is not an even list')\n",
    "            break\n",
    "        elif num % 2==0 and list[-1]==num:\n",
    "            print(list,' is an even list')\n",
    "        else:\n",
    "            continue\n",
    "phil_sales=[10,35,40,65,89,100]\n",
    "even_list(phil_sales)"
   ]
  },
  {
   "attachments": {},
   "cell_type": "markdown",
   "metadata": {},
   "source": [
    "## 2. Built in functions\n",
    "follow this link-> https://docs.python.org/3/library/functions.html"
   ]
  },
  {
   "attachments": {},
   "cell_type": "markdown",
   "metadata": {},
   "source": [
    "## 3. User Defined Functions (Basic)"
   ]
  },
  {
   "cell_type": "code",
   "execution_count": 11,
   "metadata": {},
   "outputs": [
    {
     "name": "stdout",
     "output_type": "stream",
     "text": [
      "Good Morning My name is Vishnu\n"
     ]
    }
   ],
   "source": [
    "# Multiple arguments:\n",
    "var1='Shawty'\n",
    "var2='My name is Vishnu'\n",
    "def func2(var1,var2):\n",
    "    if var1=='Hello':\n",
    "        print(var1,var2)\n",
    "    else:\n",
    "        print('Good Morning',var2)\n",
    "\n",
    "func2(var1,var2)\n",
    "    "
   ]
  },
  {
   "cell_type": "code",
   "execution_count": 9,
   "metadata": {},
   "outputs": [
    {
     "name": "stdout",
     "output_type": "stream",
     "text": [
      "12\n"
     ]
    }
   ],
   "source": [
    "# returning a value\n",
    "var3=[1,2,3,4,5,6]\n",
    "var4=[7,8,9,10,11,12]\n",
    "def func3(var3,var4):\n",
    "    return len(var3)+len(var4)\n",
    "\n",
    "length_func=func3(var3,var4)\n",
    "print(length_func)"
   ]
  },
  {
   "attachments": {},
   "cell_type": "markdown",
   "metadata": {},
   "source": [
    "## 4. User Defined Arguments (Advanced)\n",
    "* use of the unpack operator [*]"
   ]
  },
  {
   "cell_type": "code",
   "execution_count": 12,
   "metadata": {},
   "outputs": [],
   "source": [
    "def sum_sales(list):\n",
    "    return sum(list)"
   ]
  },
  {
   "cell_type": "code",
   "execution_count": 2,
   "metadata": {},
   "outputs": [
    {
     "ename": "NameError",
     "evalue": "name 'sum_sales' is not defined",
     "output_type": "error",
     "traceback": [
      "\u001b[1;31m---------------------------------------------------------------------------\u001b[0m",
      "\u001b[1;31mNameError\u001b[0m                                 Traceback (most recent call last)",
      "\u001b[1;32m~\\AppData\\Local\\Temp/ipykernel_7596/2711700700.py\u001b[0m in \u001b[0;36m<module>\u001b[1;34m\u001b[0m\n\u001b[0;32m      1\u001b[0m \u001b[0mvish_sales\u001b[0m\u001b[1;33m=\u001b[0m\u001b[1;33m[\u001b[0m\u001b[1;36m100\u001b[0m\u001b[1;33m,\u001b[0m\u001b[1;36m200\u001b[0m\u001b[1;33m,\u001b[0m\u001b[1;36m500\u001b[0m\u001b[1;33m,\u001b[0m\u001b[1;36m900\u001b[0m\u001b[1;33m,\u001b[0m\u001b[1;36m700\u001b[0m\u001b[1;33m]\u001b[0m\u001b[1;33m\u001b[0m\u001b[1;33m\u001b[0m\u001b[0m\n\u001b[0;32m      2\u001b[0m \u001b[0mjo_sales\u001b[0m\u001b[1;33m=\u001b[0m\u001b[1;33m[\u001b[0m\u001b[1;36m400\u001b[0m\u001b[1;33m,\u001b[0m\u001b[1;36m650\u001b[0m\u001b[1;33m,\u001b[0m\u001b[1;36m350\u001b[0m\u001b[1;33m,\u001b[0m\u001b[1;36m700\u001b[0m\u001b[1;33m,\u001b[0m\u001b[1;36m100\u001b[0m\u001b[1;33m]\u001b[0m\u001b[1;33m\u001b[0m\u001b[1;33m\u001b[0m\u001b[0m\n\u001b[1;32m----> 3\u001b[1;33m \u001b[0msum_sales\u001b[0m\u001b[1;33m(\u001b[0m\u001b[0mvish_sales\u001b[0m\u001b[1;33m,\u001b[0m\u001b[0mjo_sales\u001b[0m\u001b[1;33m)\u001b[0m \u001b[1;31m# you can ONLY provide one variable when calling the function. for >1 arguments,we use Unpack Operator\u001b[0m\u001b[1;33m\u001b[0m\u001b[1;33m\u001b[0m\u001b[0m\n\u001b[0m",
      "\u001b[1;31mNameError\u001b[0m: name 'sum_sales' is not defined"
     ]
    }
   ],
   "source": [
    "vish_sales=[100,200,500,900,700]\n",
    "jo_sales=[400,650,350,700,100]\n",
    "sum_sales(vish_sales,jo_sales) # you can ONLY provide one variable when calling the function. for >1 arguments,we use Unpack Operator"
   ]
  },
  {
   "cell_type": "code",
   "execution_count": 18,
   "metadata": {},
   "outputs": [
    {
     "name": "stdout",
     "output_type": "stream",
     "text": [
      "[100, 200, 500, 900, 700] [400, 650, 350, 700, 100]\n"
     ]
    }
   ],
   "source": [
    "# Unpack Operator : *args\n",
    "lists=vish_sales,jo_sales\n",
    "print(*lists) # unpacks the values of the lists variable from a tuple to just 2 lists"
   ]
  },
  {
   "cell_type": "code",
   "execution_count": 19,
   "metadata": {},
   "outputs": [],
   "source": [
    "def sum_sales(*args): # the word 'args' is just a place holder, u can put any variable name\n",
    "    value=0\n",
    "    for sale in args:\n",
    "        print(sale)\n",
    "        value+=sum(sale)\n",
    "    return value"
   ]
  },
  {
   "cell_type": "code",
   "execution_count": 20,
   "metadata": {},
   "outputs": [
    {
     "name": "stdout",
     "output_type": "stream",
     "text": [
      "[100, 200, 500, 900, 700]\n",
      "[400, 650, 350, 700, 100]\n"
     ]
    },
    {
     "data": {
      "text/plain": [
       "4600"
      ]
     },
     "execution_count": 20,
     "metadata": {},
     "output_type": "execute_result"
    }
   ],
   "source": [
    "sum_sales(vish_sales,jo_sales)"
   ]
  },
  {
   "cell_type": "code",
   "execution_count": 28,
   "metadata": {},
   "outputs": [
    {
     "name": "stdout",
     "output_type": "stream",
     "text": [
      "name_bf : Vishnu\n",
      "age_bf : 21\n",
      "name_gf : Joana\n",
      "age_gf : 26\n"
     ]
    }
   ],
   "source": [
    "# Unpack operator for **dictionaries** : **kwargs\n",
    "def kwarg_func(**kwargs):\n",
    "    for key,value in kwargs.items():\n",
    "        print(key,':',value)\n",
    "\n",
    "\n",
    "kwarg_func(name_bf='Vishnu',age_bf=21,name_gf='Joana',age_gf=26)"
   ]
  },
  {
   "attachments": {},
   "cell_type": "markdown",
   "metadata": {},
   "source": [
    "## Application\n",
    "* Building a line counter for Office script"
   ]
  },
  {
   "cell_type": "code",
   "execution_count": 29,
   "metadata": {},
   "outputs": [],
   "source": [
    "# 1. create function that:\n",
    "#    1a=open and read csv\n",
    "#    1b=make a list of times actor appears\n",
    "#    1c=count that list to see number of times actor appears\n",
    "# 2. Feed names to tahat function"
   ]
  },
  {
   "cell_type": "code",
   "execution_count": 42,
   "metadata": {},
   "outputs": [
    {
     "data": {
      "text/plain": [
       "5375"
      ]
     },
     "execution_count": 42,
     "metadata": {},
     "output_type": "execute_result"
    }
   ],
   "source": [
    "# 1.\n",
    "import csv\n",
    "\n",
    "actor=\"Michael\"\n",
    "def actor_counter(actor):\n",
    "    csvfile=open('C:/Users/vishn/Desktop/PYTHON/scripts_the_office.csv')\n",
    "    read_csv=csv.reader(csvfile)\n",
    "    list_actor=[row[5] for row in read_csv if row[5]==actor] # using list comprehension for a for loop \n",
    "    return len(list_actor) # counting the number of times an actor appears\n",
    "\n",
    "actor_counter(\"Pam\")"
   ]
  },
  {
   "cell_type": "code",
   "execution_count": 43,
   "metadata": {},
   "outputs": [
    {
     "data": {
      "text/plain": [
       "{'Michael': 12137,\n",
       " 'Pam': 5375,\n",
       " 'Dwight': 7529,\n",
       " 'Angela': 1695,\n",
       " 'Kelly': 956,\n",
       " 'Jim': 6814,\n",
       " 'Andy': 3968,\n",
       " 'Kevin': 1708,\n",
       " 'Phyllis': 1071}"
      ]
     },
     "execution_count": 43,
     "metadata": {},
     "output_type": "execute_result"
    }
   ],
   "source": [
    "#2. \n",
    "actor_list=['Michael','Pam','Dwight','Angela','Kelly','Jim','Andy','Kevin','Phyllis']\n",
    "actor_dict={}\n",
    "for actor in actor_list:\n",
    "    actor_dict[actor]=actor_counter(actor)\n",
    "\n",
    "actor_dict\n"
   ]
  },
  {
   "cell_type": "code",
   "execution_count": null,
   "metadata": {},
   "outputs": [],
   "source": []
  }
 ],
 "metadata": {
  "kernelspec": {
   "display_name": "base",
   "language": "python",
   "name": "python3"
  },
  "language_info": {
   "codemirror_mode": {
    "name": "ipython",
    "version": 3
   },
   "file_extension": ".py",
   "mimetype": "text/x-python",
   "name": "python",
   "nbconvert_exporter": "python",
   "pygments_lexer": "ipython3",
   "version": "3.9.7 (default, Sep 16 2021, 16:59:28) [MSC v.1916 64 bit (AMD64)]"
  },
  "orig_nbformat": 4,
  "vscode": {
   "interpreter": {
    "hash": "4ed1e60d53ec687cd08561468826879ac387fa6cb426728f3989bdf7ac79679c"
   }
  }
 },
 "nbformat": 4,
 "nbformat_minor": 2
}
