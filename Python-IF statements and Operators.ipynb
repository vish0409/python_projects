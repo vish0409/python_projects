{
 "cells": [
  {
   "attachments": {},
   "cell_type": "markdown",
   "metadata": {},
   "source": [
    "# IF Statements and Operators"
   ]
  },
  {
   "attachments": {},
   "cell_type": "markdown",
   "metadata": {},
   "source": [
    "## 1. IF Statements\n",
    "\n",
    "* if (condition):\n",
    " * (code to execute if statement is True)"
   ]
  },
  {
   "cell_type": "code",
   "execution_count": 1,
   "metadata": {},
   "outputs": [
    {
     "name": "stdout",
     "output_type": "stream",
     "text": [
      "This statement is true\n"
     ]
    }
   ],
   "source": [
    "# Simple IF statement\n",
    "if True:\n",
    "    print('This statement is true')"
   ]
  },
  {
   "cell_type": "code",
   "execution_count": 2,
   "metadata": {},
   "outputs": [
    {
     "name": "stdout",
     "output_type": "stream",
     "text": [
      "but this will\n"
     ]
    }
   ],
   "source": [
    "if False:\n",
    "    print('This wont print')\n",
    "print('but this will')"
   ]
  },
  {
   "cell_type": "code",
   "execution_count": 5,
   "metadata": {},
   "outputs": [
    {
     "name": "stdout",
     "output_type": "stream",
     "text": [
      "x is not equal to 10\n"
     ]
    }
   ],
   "source": [
    "# Else statement\n",
    "x=12\n",
    "if x==10:\n",
    "    print('x is equal to 10')\n",
    "else:\n",
    "    print('x is not equal to 10')"
   ]
  },
  {
   "cell_type": "code",
   "execution_count": 6,
   "metadata": {},
   "outputs": [
    {
     "name": "stdout",
     "output_type": "stream",
     "text": [
      "but this will\n"
     ]
    }
   ],
   "source": [
    "# Elif statement\n",
    "if False:\n",
    "    print('this wont print')\n",
    "elif True:\n",
    "    print('but this will')\n",
    "elif True:\n",
    "    print('this will be skipped') # this is skipped since the before elif is True, meaning the loop ends\n",
    "else:\n",
    "    print('blah blah blah')"
   ]
  },
  {
   "attachments": {},
   "cell_type": "markdown",
   "metadata": {},
   "source": [
    "## 2. Operators\n",
    "### Comparison Operators:\n",
    "* Key comparison operators: ==,!=,<,>,<=,>="
   ]
  },
  {
   "cell_type": "code",
   "execution_count": 2,
   "metadata": {},
   "outputs": [
    {
     "name": "stdout",
     "output_type": "stream",
     "text": [
      "True\n",
      "True\n",
      "True\n",
      "False\n"
     ]
    }
   ],
   "source": [
    "print(0==0) # == is used to find if exact match is true or not\n",
    "print(0!=1)\n",
    "print(0<1)\n",
    "print(0>=1)"
   ]
  },
  {
   "cell_type": "code",
   "execution_count": 5,
   "metadata": {},
   "outputs": [
    {
     "name": "stdout",
     "output_type": "stream",
     "text": [
      "Its Vishnu\n"
     ]
    }
   ],
   "source": [
    "name='Vishnu'\n",
    "if name=='Joana':\n",
    "    print('Its Joana')\n",
    "elif name=='Vishnu':\n",
    "    print('Its Vishnu')\n",
    "else:\n",
    "    print('Its no one')"
   ]
  },
  {
   "attachments": {},
   "cell_type": "markdown",
   "metadata": {},
   "source": [
    "### Logical Operators:\n",
    "* combine 2 statements with and, or"
   ]
  },
  {
   "cell_type": "code",
   "execution_count": 6,
   "metadata": {},
   "outputs": [
    {
     "data": {
      "text/plain": [
       "True"
      ]
     },
     "execution_count": 6,
     "metadata": {},
     "output_type": "execute_result"
    }
   ],
   "source": [
    "True and True"
   ]
  },
  {
   "cell_type": "code",
   "execution_count": 8,
   "metadata": {},
   "outputs": [
    {
     "data": {
      "text/plain": [
       "True"
      ]
     },
     "execution_count": 8,
     "metadata": {},
     "output_type": "execute_result"
    }
   ],
   "source": [
    "True or False"
   ]
  },
  {
   "cell_type": "code",
   "execution_count": 9,
   "metadata": {},
   "outputs": [
    {
     "data": {
      "text/plain": [
       "False"
      ]
     },
     "execution_count": 9,
     "metadata": {},
     "output_type": "execute_result"
    }
   ],
   "source": [
    "False or False"
   ]
  },
  {
   "cell_type": "code",
   "execution_count": 11,
   "metadata": {},
   "outputs": [
    {
     "data": {
      "text/plain": [
       "True"
      ]
     },
     "execution_count": 11,
     "metadata": {},
     "output_type": "execute_result"
    }
   ],
   "source": [
    "False or True and not False"
   ]
  },
  {
   "attachments": {},
   "cell_type": "markdown",
   "metadata": {},
   "source": [
    "## Other Operators"
   ]
  },
  {
   "cell_type": "code",
   "execution_count": 12,
   "metadata": {},
   "outputs": [
    {
     "name": "stdout",
     "output_type": "stream",
     "text": [
      "True\n"
     ]
    }
   ],
   "source": [
    "# in operator\n",
    "names2=['Jay','Phil','Manny','Claire']\n",
    "print('Phil' in names2)"
   ]
  },
  {
   "cell_type": "code",
   "execution_count": 16,
   "metadata": {},
   "outputs": [
    {
     "name": "stderr",
     "output_type": "stream",
     "text": [
      "<>:2: SyntaxWarning: \"is\" with a literal. Did you mean \"==\"?\n",
      "<>:2: SyntaxWarning: \"is\" with a literal. Did you mean \"==\"?\n",
      "C:\\Users\\vishn\\AppData\\Local\\Temp\\ipykernel_18020\\1957346380.py:2: SyntaxWarning: \"is\" with a literal. Did you mean \"==\"?\n",
      "  1 is 1\n"
     ]
    },
    {
     "data": {
      "text/plain": [
       "True"
      ]
     },
     "execution_count": 16,
     "metadata": {},
     "output_type": "execute_result"
    }
   ],
   "source": [
    "# is operator\n",
    "1 is 1\n",
    "# since identity is same, its  true"
   ]
  },
  {
   "attachments": {},
   "cell_type": "markdown",
   "metadata": {},
   "source": [
    "## 3. Application"
   ]
  },
  {
   "attachments": {},
   "cell_type": "markdown",
   "metadata": {},
   "source": [
    "### Create  a bot that lets user input name of fav character and output returns something depending on input.\n",
    "* **Rules:**\n",
    "* name must be on 'mf_names' list\n",
    "* if its 'GLoria','Manny','Phil' say 'My favb character'\n",
    "* if its 'jay' or 'cam' say not my fav character\n",
    "* anyone else is good"
   ]
  },
  {
   "cell_type": "code",
   "execution_count": 2,
   "metadata": {},
   "outputs": [],
   "source": [
    "mf_names=['Jay','Gloria','Manny','Joe',\n",
    "'Phil','Alex','Claire','Haley',\n",
    "'Cam','Mitch','Lily']"
   ]
  },
  {
   "attachments": {},
   "cell_type": "markdown",
   "metadata": {},
   "source": [
    "1. User inputs name\n",
    "2.See if its within list\n",
    "3. if not, say :re-enter name\n",
    "4. if statement depending on name"
   ]
  },
  {
   "cell_type": "code",
   "execution_count": 10,
   "metadata": {},
   "outputs": [
    {
     "name": "stdout",
     "output_type": "stream",
     "text": [
      "Claire is a good character\n"
     ]
    }
   ],
   "source": [
    "# to get a User Input:  use =input()\n",
    "name=input('What is your favorite character of Modern Family')\n",
    "\n",
    "if name not in mf_names:\n",
    "    name=input('name is invalid')\n",
    "else:\n",
    "    if name=='Gloria' or name=='Manny'or name=='Phil':\n",
    "        print(name+' is my fav character')\n",
    "    elif name=='Jay' or name=='Cam':\n",
    "        print(name+' is not my fav character')\n",
    "    else:\n",
    "        print(name+' is a good character')"
   ]
  },
  {
   "cell_type": "code",
   "execution_count": null,
   "metadata": {},
   "outputs": [],
   "source": []
  },
  {
   "cell_type": "code",
   "execution_count": null,
   "metadata": {},
   "outputs": [],
   "source": []
  }
 ],
 "metadata": {
  "kernelspec": {
   "display_name": "Python 3",
   "language": "python",
   "name": "python3"
  },
  "language_info": {
   "codemirror_mode": {
    "name": "ipython",
    "version": 3
   },
   "file_extension": ".py",
   "mimetype": "text/x-python",
   "name": "python",
   "nbconvert_exporter": "python",
   "pygments_lexer": "ipython3",
   "version": "3.10.0"
  },
  "orig_nbformat": 4,
  "vscode": {
   "interpreter": {
    "hash": "4c2c3f571fd9835ecb4671100f0948db3b0fe978d43d251dc81320fcb94220f9"
   }
  }
 },
 "nbformat": 4,
 "nbformat_minor": 2
}
