{
 "cells": [
  {
   "attachments": {},
   "cell_type": "markdown",
   "metadata": {},
   "source": [
    "# Loops\n",
    "## 1. For loops:\n",
    "*   for (iter/variable) in (iterable):\n",
    "*     (code to execute)"
   ]
  },
  {
   "cell_type": "code",
   "execution_count": 3,
   "metadata": {},
   "outputs": [
    {
     "name": "stdout",
     "output_type": "stream",
     "text": [
      "1\n",
      "2\n",
      "3\n",
      "4\n"
     ]
    }
   ],
   "source": [
    "for number in [1,2,3,4]:\n",
    "    print(number)"
   ]
  },
  {
   "cell_type": "code",
   "execution_count": 4,
   "metadata": {},
   "outputs": [
    {
     "name": "stdout",
     "output_type": "stream",
     "text": [
      "12\n",
      "13\n",
      "14\n",
      "15\n"
     ]
    }
   ],
   "source": [
    "y=[10,11,12,13]\n",
    "for x in y:\n",
    "    print(x+2)"
   ]
  },
  {
   "attachments": {},
   "cell_type": "markdown",
   "metadata": {},
   "source": [
    "* #### Using Range() in for loops"
   ]
  },
  {
   "cell_type": "code",
   "execution_count": 5,
   "metadata": {},
   "outputs": [
    {
     "data": {
      "text/plain": [
       "[0, 1, 2, 3, 4]"
      ]
     },
     "execution_count": 5,
     "metadata": {},
     "output_type": "execute_result"
    }
   ],
   "source": [
    "\n",
    "list(range(5))"
   ]
  },
  {
   "cell_type": "code",
   "execution_count": 6,
   "metadata": {},
   "outputs": [
    {
     "name": "stdout",
     "output_type": "stream",
     "text": [
      "0\n",
      "2\n",
      "4\n",
      "6\n",
      "8\n"
     ]
    }
   ],
   "source": [
    "for x in range(0,10,2):\n",
    "    print(x)"
   ]
  },
  {
   "attachments": {},
   "cell_type": "markdown",
   "metadata": {},
   "source": [
    "* #### Iterating over objects:\n",
    "-> python can iteratre over any objects (eg: lists, dictionaries, tuples etc) with any set of values"
   ]
  },
  {
   "cell_type": "code",
   "execution_count": 5,
   "metadata": {},
   "outputs": [],
   "source": [
    "ages_cast={'Vishnu':21,'Aditya':47,'Bindu':44,'Anjali':17}"
   ]
  },
  {
   "cell_type": "code",
   "execution_count": 7,
   "metadata": {},
   "outputs": [
    {
     "name": "stdout",
     "output_type": "stream",
     "text": [
      "Age of Vishnu\n",
      "Age of Aditya\n",
      "Age of Bindu\n",
      "Age of Anjali\n"
     ]
    }
   ],
   "source": [
    "for key in ages_cast:\n",
    "    print('Age of '+key)"
   ]
  },
  {
   "cell_type": "code",
   "execution_count": 11,
   "metadata": {},
   "outputs": [
    {
     "name": "stdout",
     "output_type": "stream",
     "text": [
      "Vishnu   21\n",
      "Aditya   47\n",
      "Bindu   44\n",
      "Anjali   17\n"
     ]
    }
   ],
   "source": [
    "# to print values of a dictionary:\n",
    "# 1. dict[key] - calls the keys of dictionary itself\n",
    "\n",
    "for key in ages_cast:\n",
    "    print(key,' ' ,ages_cast[key])\n",
    " "
   ]
  },
  {
   "cell_type": "code",
   "execution_count": 14,
   "metadata": {},
   "outputs": [
    {
     "name": "stdout",
     "output_type": "stream",
     "text": [
      "dict_items([('Vishnu', 21), ('Aditya', 47), ('Bindu', 44), ('Anjali', 17)])\n",
      "Vishnu   21\n",
      "Aditya   47\n",
      "Bindu   44\n",
      "Anjali   17\n"
     ]
    }
   ],
   "source": [
    "# 2. dict.items() - iterates over the iterms / values of a dictionary\n",
    "print(ages_cast.items()) # -> prints tuples in the form of a list\n",
    "for key,value in ages_cast.items():\n",
    "    print(key,\" \",value)"
   ]
  },
  {
   "attachments": {},
   "cell_type": "markdown",
   "metadata": {},
   "source": [
    "* #### Enumerate function:\n",
    "-> returns index\n",
    "-> Eg; a list has values that appear in a certain order. To index this and return the indexed number for each value, we used enumerate"
   ]
  },
  {
   "cell_type": "code",
   "execution_count": 17,
   "metadata": {},
   "outputs": [
    {
     "data": {
      "text/plain": [
       "[(0, 'Jay'), (1, 'Phil'), (2, 'Manny'), (3, 'Haley')]"
      ]
     },
     "execution_count": 17,
     "metadata": {},
     "output_type": "execute_result"
    }
   ],
   "source": [
    "mf_cast=['Jay','Phil','Manny','Haley']\n",
    "list(enumerate(mf_cast))"
   ]
  },
  {
   "cell_type": "code",
   "execution_count": 18,
   "metadata": {},
   "outputs": [
    {
     "name": "stdout",
     "output_type": "stream",
     "text": [
      "Highest number of modern family appearances by cast:\n",
      "1 . Jay\n",
      "2 . Phil\n",
      "3 . Manny\n",
      "4 . Haley\n"
     ]
    }
   ],
   "source": [
    "print('Highest number of modern family appearances by cast:')\n",
    "for index,value in enumerate(mf_cast):\n",
    "    print(index+1,'.',value)\n"
   ]
  },
  {
   "attachments": {},
   "cell_type": "markdown",
   "metadata": {},
   "source": [
    "## While Loops:\n",
    "* while (condition):\n",
    "* (code to execute while the condition is true)"
   ]
  },
  {
   "cell_type": "code",
   "execution_count": 1,
   "metadata": {},
   "outputs": [
    {
     "name": "stdout",
     "output_type": "stream",
     "text": [
      "Phil Dunphy is the best\n"
     ]
    }
   ],
   "source": [
    "condition=True\n",
    "while condition:\n",
    "    print('Phil Dunphy is the best')\n",
    "    condition=False # this lets us exit the loop since the condition is false"
   ]
  },
  {
   "cell_type": "code",
   "execution_count": 2,
   "metadata": {},
   "outputs": [
    {
     "name": "stdout",
     "output_type": "stream",
     "text": [
      "0\n",
      "1\n",
      "2\n",
      "3\n",
      "4\n"
     ]
    }
   ],
   "source": [
    "x=0\n",
    "while x<5:\n",
    "    print(x)\n",
    "    x+=1 # the += will INCREMENT the x value by 1 until it reaches 5"
   ]
  },
  {
   "attachments": {},
   "cell_type": "markdown",
   "metadata": {},
   "source": [
    "## 3. Loop Control Statements\n",
    "* used to control loops"
   ]
  },
  {
   "cell_type": "code",
   "execution_count": 6,
   "metadata": {},
   "outputs": [
    {
     "name": "stdout",
     "output_type": "stream",
     "text": [
      "Jay\n",
      "Phil\n"
     ]
    }
   ],
   "source": [
    "# break- exiting a loop\n",
    "mf_cast=['Jay','Phil','Manny','Haley']\n",
    "for x in mf_cast:\n",
    "    if x=='Manny':\n",
    "       break # stops the loop wehn it reaches manny\n",
    "    print(x)"
   ]
  },
  {
   "cell_type": "code",
   "execution_count": 9,
   "metadata": {},
   "outputs": [
    {
     "name": "stdout",
     "output_type": "stream",
     "text": [
      "Jay\n",
      "Haley\n"
     ]
    }
   ],
   "source": [
    "# continue - skipping to next item in a loop\n",
    "for x in mf_cast:\n",
    "    if x=='Manny' or x=='Phil':\n",
    "       continue # skips x wehn it reaches manny or phil\n",
    "    print(x)\n"
   ]
  },
  {
   "attachments": {},
   "cell_type": "markdown",
   "metadata": {},
   "source": [
    "## 4. Application\n",
    "* using The Office script, find 'Thats what she said\" line"
   ]
  },
  {
   "attachments": {},
   "cell_type": "markdown",
   "metadata": {},
   "source": [
    "1. Read data from csv\n",
    "2. Extract script data into a list\n",
    "3. Check for 'thats what she said' statement\n",
    "4. return the previous  for context"
   ]
  },
  {
   "cell_type": "code",
   "execution_count": 33,
   "metadata": {},
   "outputs": [],
   "source": [
    "# importing csv data\n",
    "import csv # -> the csv is a module already in base python. we dont need to pip install\n",
    "csvfile=open(\"C:/Users/vishn/Desktop/PYTHON/scripts_the_office.csv\")\n",
    "read_csv=csv.reader(csvfile) # helps iterate via loops\n"
   ]
  },
  {
   "cell_type": "code",
   "execution_count": 34,
   "metadata": {},
   "outputs": [
    {
     "name": "stdout",
     "output_type": "stream",
     "text": [
      "['id', 'season', 'episode', 'scene', 'line_text', 'speaker', 'deleted']\n"
     ]
    }
   ],
   "source": [
    "for row in read_csv:\n",
    "    print(row)\n",
    "    break"
   ]
  },
  {
   "cell_type": "code",
   "execution_count": 35,
   "metadata": {},
   "outputs": [],
   "source": [
    "# extracting the script data (aka 'line text' column data from the dataset)\n",
    "list=[]\n",
    "for row in read_csv:\n",
    "    list.append(row[4])\n",
    "csvfile.close()"
   ]
  },
  {
   "cell_type": "code",
   "execution_count": 37,
   "metadata": {},
   "outputs": [
    {
     "name": "stdout",
     "output_type": "stream",
     "text": [
      "That's what she said. Pam?\n",
      "That's what she said.\n",
      "That's what she said!\n",
      "That's what she said. [Jim mouths these words along with Michael] The thing is, Angela... you are in here an awful lot. You have complained about everybody in the office, except Dwight, which is odd because everyone else has had run ins with Dwight. Toby, by the way, what does 'redacted' mean? There is a file full of complaints in here marked 'redacted'... ?\n",
      "That's what she said. [Stanley and Michael both laugh]\n",
      "Oh. [She whispers in his ear. Michael starts to laugh] That's what she said.\n",
      "That's what she said.\n",
      "That's what she said.\n",
      "Why is this so hard? That's what she said. Oh my God. What am I saying?\n",
      "No, no.  I need two men on this.  That's what she said.  No time!  But she did.  NO TIME!  Guys, get on this.  Dwight, I want you to be in charge of the press conference.\n",
      "That's what she said!\n",
      "Hey. Can you make that straighter? That's what she said.\n",
      "That's what I said. That's what she said.\n",
      "That's what she said.\n",
      "That's what she said.\n",
      "That's what she said.\n",
      "Come again? That's what she said? I don't know what you're talking about.\n",
      "[reading off paper] Mr. Schneider: And you were directly under her the entire time? Mr. Scott: That's what she said.\n",
      "[muffled] That's what she said.\n",
      "[from his office] That's what she said.\n",
      "That's what she said.\n",
      "[in New York] That's what she said! That's what she said! That's what she said!\n",
      "That's what she said! [David laughs]\n",
      "That's what she said.\n",
      "[grimacing] That's what she said. [leaves]\n",
      "No, no. No, comedy is a place where the mind goes to tickle itself. That's what she said. [laughs]. [hugs Michaels] Ohh.\n",
      "I'm not saying it won't be hard. But we can make it work. That's what she said.\n",
      "[putting his shoes back on, talking to the camera crew] Well, I guess this is it. Hey will you guys let me know if this ever airs? Thank you. Alright... Oh! [pulls out his mic from his shirt] This is gonna feel so good, getting this thing off my chest. [he hands them the body mic, when he speaks it is inaudible now] That's what she said! [waves goodbye and walks off to his gate, halfway there Pam comes running up to him and they hug for a while. They say their goodbyes to each other, and Michael walks off for good]\n",
      "Yeah.  That's what she said.\n"
     ]
    }
   ],
   "source": [
    "# checking for thats what she said \n",
    "condition=\"That's what she said\"\n",
    "\n",
    "for item in list:\n",
    "    if condition in item:\n",
    "        print(item)\n"
   ]
  },
  {
   "cell_type": "code",
   "execution_count": 39,
   "metadata": {},
   "outputs": [
    {
     "name": "stdout",
     "output_type": "stream",
     "text": [
      "No, thanks. I'm good. \n",
      " That's what she said. Pam? \n",
      "\n",
      "\n",
      "Does the skin look red and swollen? \n",
      " That's what she said. \n",
      "\n",
      "\n",
      "I have a ton of stuff to do for the wedding. And I have to do it in the office. And that can be kind of awkward. Um... just because people can get all weird about wedding stuff. Then... I just... I don't want to offend... Angela... or someone. \n",
      " That's what she said! \n",
      "\n",
      "\n",
      "You already did me. \n",
      " That's what she said. [Jim mouths these words along with Michael] The thing is, Angela... you are in here an awful lot. You have complained about everybody in the office, except Dwight, which is odd because everyone else has had run ins with Dwight. Toby, by the way, what does 'redacted' mean? There is a file full of complaints in here marked 'redacted'... ? \n",
      "\n",
      "\n",
      "I mean, they're just dough twisted up with some candy. They taste so good in my mouth. \n",
      " That's what she said. [Stanley and Michael both laugh] \n",
      "\n",
      "\n",
      "Thanks! I, I wanna give you something. \n",
      " Oh. [She whispers in his ear. Michael starts to laugh] That's what she said. \n",
      "\n",
      "\n",
      "Ok, you know what? I want you to think about your future in this company. I want you to think about it long and hard. \n",
      " That's what she said. \n",
      "\n",
      "\n",
      "Let's just blow this party off. \n",
      " That's what she said. \n",
      "\n",
      "\n",
      "It's a heart. \n",
      " Why is this so hard? That's what she said. Oh my God. What am I saying? \n",
      "\n",
      "\n",
      "Yeah, I'm definitely gonna go alone. \n",
      " No, no.  I need two men on this.  That's what she said.  No time!  But she did.  NO TIME!  Guys, get on this.  Dwight, I want you to be in charge of the press conference. \n",
      "\n",
      "\n",
      "No mustard! No mustard! Just... eat it. Eat it, Phyllis. Dip it in the water so it will slide down your gullet more easily. \n",
      " That's what she said! \n",
      "\n",
      "\n",
      "Jim Halpert's off the market. Guess who just became the best looking single guy in the office? \n",
      " Hey. Can you make that straighter? That's what she said. \n",
      "\n",
      "\n",
      "Well, I don't think I'll be here in ten years. \n",
      " That's what I said. That's what she said. \n",
      "\n",
      "\n",
      "I never know. I just say it. I say stuff like that, you know, to lighten the tension. When things sort of get hard. \n",
      " That's what she said. \n",
      "\n",
      "\n",
      "And you were directly under her the entire time? \n",
      " That's what she said. \n",
      "\n",
      "\n",
      "Excuse me? \n",
      " That's what she said. \n",
      "\n",
      "\n",
      "With all due respect, I'm in the middle of a line of questioning. Now Mr. Scott, what did you say Ms. Levinson said? Regarding your employment status with respect to her corporate position. \n",
      " Come again? That's what she said? I don't know what you're talking about. \n",
      "\n",
      "\n",
      "Can you go back to where this digression began? \n",
      " [reading off paper] Mr. Schneider: And you were directly under her the entire time? Mr. Scott: That's what she said. \n",
      "\n",
      "\n",
      "And... go. [Michael sticks his face in the cement] Force it in as deep as you can. \n",
      " [muffled] That's what she said. \n",
      "\n",
      "\n",
      "[sitting on a stack of paper] Yeah, well, if you're only free till three on Sunday and I can't get there till one, then it's gonna be pretty tight. \n",
      " [from his office] That's what she said. \n",
      "\n",
      "\n",
      "Michael. Don't. Don't. Don't make it harder than it has to be. \n",
      " That's what she said. \n",
      "\n",
      "\n",
      "Dwight, get out of my nook! \n",
      " [in New York] That's what she said! That's what she said! That's what she said! \n",
      "\n",
      "\n",
      "Alright Dwight. This is huge. \n",
      " That's what she said! [David laughs] \n",
      "\n",
      "\n",
      "You need to get back on top. \n",
      " That's what she said. \n",
      "\n",
      "\n",
      "Michael! You are making this harder than it has to be. \n",
      " [grimacing] That's what she said. [leaves] \n",
      "\n",
      "\n",
      "No, no, no. And people don't understand that is has nothing to do with making fun of a different nationality. \n",
      " No, no. No, comedy is a place where the mind goes to tickle itself. That's what she said. [laughs]. [hugs Michaels] Ohh. \n",
      "\n",
      "\n",
      "I was in love with you. \n",
      " I'm not saying it won't be hard. But we can make it work. That's what she said. \n",
      "\n",
      "\n",
      "Got almost everybody. So... Holly's my family now. [you see video of Michael getting into the cab, and driving off. As the cab leaves, Pam drives in] She's my family. The babies that I make with her, will be my children. The people that you work with, are just... when you get down to it... your very best friends. They say, on your deathbed, you never wish you spent more time at the office. But I will. Gotta be a lot better than a deathbed. [You see Michael getting out and entering the airport, and going through security] I actually don't understand deathbeds. I mean, who would buy that? \n",
      " [putting his shoes back on, talking to the camera crew] Well, I guess this is it. Hey will you guys let me know if this ever airs? Thank you. Alright... Oh! [pulls out his mic from his shirt] This is gonna feel so good, getting this thing off my chest. [he hands them the body mic, when he speaks it is inaudible now] That's what she said! [waves goodbye and walks off to his gate, halfway there Pam comes running up to him and they hug for a while. They say their goodbyes to each other, and Michael walks off for good] \n",
      "\n",
      "\n",
      "Wait! Wait. Hold on. Whereï¿½ï¿½ï¿½s the band? ï¿½ï¿½ï¿½Cause thereï¿½ï¿½ï¿½s just no way you guys are making this magic with just your mouths. \n",
      " Yeah.  That's what she said. \n",
      "\n",
      "\n"
     ]
    }
   ],
   "source": [
    "# getting the previous line \n",
    "for item in list:\n",
    "    if condition in item:\n",
    "        print(previous_item,'\\n',item,'\\n\\n') # the \\n means new line\n",
    "    previous_item=item"
   ]
  },
  {
   "cell_type": "code",
   "execution_count": null,
   "metadata": {},
   "outputs": [],
   "source": []
  }
 ],
 "metadata": {
  "kernelspec": {
   "display_name": "base",
   "language": "python",
   "name": "python3"
  },
  "language_info": {
   "codemirror_mode": {
    "name": "ipython",
    "version": 3
   },
   "file_extension": ".py",
   "mimetype": "text/x-python",
   "name": "python",
   "nbconvert_exporter": "python",
   "pygments_lexer": "ipython3",
   "version": "3.9.7 (default, Sep 16 2021, 16:59:28) [MSC v.1916 64 bit (AMD64)]"
  },
  "orig_nbformat": 4,
  "vscode": {
   "interpreter": {
    "hash": "4ed1e60d53ec687cd08561468826879ac387fa6cb426728f3989bdf7ac79679c"
   }
  }
 },
 "nbformat": 4,
 "nbformat_minor": 2
}
